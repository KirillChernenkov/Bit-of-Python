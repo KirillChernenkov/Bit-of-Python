{
 "cells": [
  {
   "cell_type": "markdown",
   "id": "b72061ca-71fe-47d1-8511-01309c99a7be",
   "metadata": {},
   "source": [
    "# <center>Урок 1. Основы Python </center>"
   ]
  },
  {
   "cell_type": "markdown",
   "id": "e54ed309-360e-4a3c-8ab8-f1c15ee1da25",
   "metadata": {},
   "source": [
    "### Типы данных \n",
    "\n",
    "1. Написать все типы данных которые есть в Python\n",
    "  \n",
    "    \n",
    "    "
   ]
  },
  {
   "cell_type": "code",
   "execution_count": 48,
   "id": "86a10be3-77a5-4037-a1e9-34b6069014b3",
   "metadata": {},
   "outputs": [
    {
     "name": "stdout",
     "output_type": "stream",
     "text": [
      "Пример выполнения\n",
      "Welcome to Bit-to-Python - <class 'str'>\n",
      "1 - <class 'int'>\n",
      "0.1 - <class 'float'>\n",
      "(21+1j) - <class 'complex'>\n",
      "['V1', 'V2', 'V3', 'V4'] - <class 'list'>\n",
      "('A', 'B', 'C', 'D') - <class 'tuple'>\n",
      "{'A': 'a', 'B': 'b', 'C': 'c', 'D': 'd'} - <class 'dict'>\n",
      "{'T', 'Y', 'N', 'F'} - <class 'set'>\n"
     ]
    }
   ],
   "source": [
    "# Для программного кода\n",
    "print('Пример выполнения')\n",
    "\n",
    "a = \"Welcome to Bit-to-Python\"\n",
    "b = 1\n",
    "c = 0.1\n",
    "d = 1j+21\n",
    "e = [\"V1\", \"V2\", \"V3\", \"V4\"]\n",
    "f = (\"A\", \"B\", \"C\", \"D\")\n",
    "g = {\"A\": \"a\", \"B\": \"b\", \"C\": \"c\", \"D\": \"d\"}\n",
    "h = {'Y', 'N', 'T', 'F'}\n",
    "\n",
    "k = (a,b,c,d,e,f,g,h)\n",
    "\n",
    "for x in k:\n",
    "    print(f'{x} - {type(x)}')\n"
   ]
  },
  {
   "cell_type": "markdown",
   "id": "a459b722-fa2a-49bf-9e27-0ebe926844ef",
   "metadata": {},
   "source": [
    "\n",
    "    "
   ]
  },
  {
   "cell_type": "markdown",
   "id": "44a3b5a6-6381-4810-b093-f2bc1c0afdf7",
   "metadata": {},
   "source": [
    "2. Создать список и заполнить его различными типами данных.\n",
    "\n",
    "    Использовать **type()** Для получения типа "
   ]
  },
  {
   "cell_type": "code",
   "execution_count": 170,
   "id": "67778a7c-ec51-4298-b454-ca333fd0198d",
   "metadata": {},
   "outputs": [
    {
     "name": "stdout",
     "output_type": "stream",
     "text": [
      "V1 - <class 'str'>\n",
      "1 - <class 'int'>\n",
      "1.54 - <class 'float'>\n",
      "(10+2j) - <class 'complex'>\n"
     ]
    }
   ],
   "source": [
    "# Для программного кода\n",
    "e = [\"V1\", 1, 1.54, 10+2j]\n",
    "for x in e:\n",
    "    print(f'{x} - {type(x)}')\n",
    "\n"
   ]
  },
  {
   "cell_type": "markdown",
   "id": "6e656750-548d-485d-b8b6-00464193edf9",
   "metadata": {},
   "source": [
    "3. Пользователь вводит число от 1 до 12. Вывести название месяца и Время года (Зима, Весна, Лето, ОСень)"
   ]
  },
  {
   "cell_type": "code",
   "execution_count": 240,
   "id": "649f91cd-bc01-45d9-810f-f81651c069f7",
   "metadata": {},
   "outputs": [
    {
     "name": "stdout",
     "output_type": "stream",
     "text": [
      "11\n",
      "ноябрь осень\n"
     ]
    }
   ],
   "source": [
    "# Для программного кода\n",
    "months = [\"\",\"январь\", \"февраль\",\"март\", \"апрель\", \"май\",\"июнь\", \"июль\", \"август\", \"сентябрь\", \"октябрь\", \"ноябрь\", \"декабрь\"]\n",
    "seasons = [\"зима\",\"весна\",\"лето\",\"осень\"]\n",
    "c = input()\n",
    "d = list(months)[int(c)]\n",
    "if int(c) in [1,2,12]:\n",
    "    print(d, 'зима')\n",
    "else:\n",
    "    if int(c) in [3,4,5]:\n",
    "        print(d, 'весна')\n",
    "    else:\n",
    "        if int(c) in [6,7,8]:\n",
    "            print(d, 'лето')\n",
    "        else:\n",
    "            if int(c) in [9,10,11]:\n",
    "                print(d, 'осень')\n",
    "\n",
    "\n",
    "\n"
   ]
  },
  {
   "cell_type": "markdown",
   "id": "40e6dfbf-99a1-424f-a22f-c27e2ae04d21",
   "metadata": {},
   "source": [
    "4. Рейтинг пользователя. \n",
    "\n",
    "    Представим что есть рейтинг [7,5,3,3,2]\n",
    "    \n",
    "    Пользователь вводит число 3\n",
    "    \n",
    "    новый рейтинг = [7,5,3,3,**3**,2]\n",
    "    \n",
    "    Если в рейтинге существуют элементы с одинаковыми значениями, то новый элемент с тем же значением должен разместиться после них.\n",
    "    **Не использвовать встроенную функцию сортировки**\n",
    "    \n",
    "    Рейтинг всегда идет по убыванию\n",
    "    "
   ]
  },
  {
   "cell_type": "code",
   "execution_count": 185,
   "id": "a936d413-873e-4041-a7f4-21c2b7c0264b",
   "metadata": {},
   "outputs": [],
   "source": [
    "# Для программного кода\n",
    "my_list = [7, 5, 3, 3, 2] \n",
    "\n",
    "\n"
   ]
  },
  {
   "cell_type": "markdown",
   "id": "afec82fa-4687-472a-878d-5b3c57108a99",
   "metadata": {},
   "source": [
    "5. Созадть список из 20 рандомных числел от 1 до 100 \n",
    "и вывести числа :\n",
    "\n",
    "    1. Вывести Краные 2\n",
    "    2. Вывести Кратные 3 или 5\n",
    "    3. Меньше среднего значения списка\n",
    "    \n",
    "Использовать модуль **math** для рандома"
   ]
  },
  {
   "cell_type": "code",
   "execution_count": 21,
   "id": "a1fb62c3-21da-4b34-a594-3e3af49f2592",
   "metadata": {},
   "outputs": [],
   "source": [
    "# Для программного ко да\n",
    "\n",
    "\n",
    "\n"
   ]
  },
  {
   "cell_type": "markdown",
   "id": "1769ef43-b723-4105-911b-ec9c779cd4e7",
   "metadata": {},
   "source": [
    "6. Создать два списка из 20 рандомных числе от 1 до 100\n",
    "\n",
    "    1. Создать новый список из уникальных элементов, которые встречаются в спике 1 и списке 2\n",
    "    2. Найти все элементы, которые есть в списке 1, но нет в списке 2\n",
    "    и наоборот\n",
    "    \n",
    "    3. Объединить два списка, оставить только уникальные значения  и найти среднее значение и медиану \n",
    "    "
   ]
  },
  {
   "cell_type": "code",
   "execution_count": 22,
   "id": "580c32f3-3795-4b72-9b49-36795b52d530",
   "metadata": {},
   "outputs": [],
   "source": [
    "# Для программного кода\n",
    "\n",
    "\n",
    "\n",
    "\n"
   ]
  },
  {
   "cell_type": "markdown",
   "id": "fd36ffc5-7395-4a0f-a220-97a2f9a877f3",
   "metadata": {},
   "source": [
    "7. Имеется строка записанная в переменную **string**\n",
    "\n",
    "    1. Каждое слово должно начинаться с заглавной \n",
    "    2. Посчитать количество слов в тексте более трех символов и количество букв для всего текста. найти самое  часто встречаемое слово и букву\n",
    "    3. Удалить все знаки препинания и заменить все пробелы на слово **SPACE**. Удалить все переносы строк\n",
    "    4. Вывести Первую и последнюю букву у каждого слова. Если предлог или союз состоящих из одного символа , также вывести его на печать."
   ]
  },
  {
   "cell_type": "code",
   "execution_count": 29,
   "id": "a53d35c2-7859-41a4-9c27-e831f0a679b1",
   "metadata": {},
   "outputs": [],
   "source": [
    "string = '''Алисе надоело сидеть на пригорке, рядом с сестрой, и ничего не делать. Раза два она заглянула украдкой в книгу, \n",
    "которую читала ее сестра, но там не было ни разговоров, ни картинок. «Какой толк в книге, – подумала Алиса, – если в ней нет ни картинок, ни разговоров?»\n",
    "\n",
    "\n",
    "Потом она стала раздумывать (насколько вообще это возможно в такой невыносимо жаркий день, когда одолевает дремота),\n",
    "стоит ли ей вставать, чтобы пойти нарвать маргаритки и сплести венок, или нет, как вдруг Белый Кролик с розовыми глазками пробежал мимо нее.\n",
    "\n",
    "\n",
    "В этом не было, конечно, ничего особенного.\n",
    "Не удивилась Алиса и тогда, когда Кролик пробормотал себе под нос:\n",
    "\n",
    "– Ах, боже мой, я опоздаю!\n",
    "\n",
    "Думая об этом впоследствии, Алиса не могла понять, почему же она не удивилась, услышав, что Кролик заговорил, \n",
    "но в тот момент это не показалось ей странным. Однако, когда Кролик вынул из жилетного кармана часы и,\n",
    "взглянув на них, побежал дальше, Алиса вскочила, сообразив, что никогда еще не случалось ей видеть \n",
    "Кролика в жилете и с часами. Сгорая от любопытства, она бросилась за ним и успела заметить,\n",
    "как он юркнул в кроличью нору под живой изгородью'''"
   ]
  },
  {
   "cell_type": "code",
   "execution_count": null,
   "id": "2a52b5d0-31de-4ae3-91df-da347d9c2f39",
   "metadata": {},
   "outputs": [],
   "source": []
  },
  {
   "cell_type": "code",
   "execution_count": null,
   "id": "fc758e68-dba4-4ca8-aae4-1014963a09ed",
   "metadata": {},
   "outputs": [],
   "source": []
  },
  {
   "cell_type": "code",
   "execution_count": null,
   "id": "dde42f51-83fb-4a06-af0b-48f11a394f1b",
   "metadata": {},
   "outputs": [],
   "source": []
  },
  {
   "cell_type": "code",
   "execution_count": null,
   "id": "03070dfb-92f3-422a-b2b0-9d6998668334",
   "metadata": {},
   "outputs": [],
   "source": []
  },
  {
   "cell_type": "code",
   "execution_count": null,
   "id": "2e8e7eb9-152e-4e67-9e79-ed365dc53fcc",
   "metadata": {},
   "outputs": [],
   "source": []
  },
  {
   "cell_type": "markdown",
   "id": "07841bdf-2fea-4f9f-8f15-761eabff0a43",
   "metadata": {},
   "source": [
    "8. Номер телефона\n"
   ]
  },
  {
   "cell_type": "code",
   "execution_count": 168,
   "id": "c15b88ac-b49b-4b8d-adc5-3ff0fac8f48e",
   "metadata": {},
   "outputs": [
    {
     "name": "stdout",
     "output_type": "stream",
     "text": [
      "\"(123) 456-7890\"\n"
     ]
    }
   ],
   "source": [
    "num = [1, 2, 3, 4, 5, 6, 7, 8, 9, 0]\n",
    "# Вывести \"(123) 456-7890\"\n",
    "\n",
    "import re\n",
    "tel_num = ''.join([i for i in str(num) if i.isdigit()])\n",
    "code = ''.join([i for i in tel_num if ((int(i)<=3) & (int(i)!=0))])\n",
    "number1 = ''.join([i for i in tel_num if ((int(i)>3)) & (int(i)<7)])\n",
    "number2 = ''.join([i for i in tel_num if ((int(i)>6)) | (int(i)<1)])\n",
    "print('\"'+\"(\"+code+\")\"+' '+ number1+'-'+number2+'\"')"
   ]
  },
  {
   "cell_type": "markdown",
   "id": "d911bfcc-41b6-43df-a0b2-4d0b0f0cd4df",
   "metadata": {},
   "source": [
    "9. Найти наибольшее и наименьшее числов списка\n",
    "\n",
    "Создать список размерном в 1000 элементов и заполнить рандомными значениями\n",
    "\n",
    "Найти наибольший и наименьший элемент. Нельзя использоватеть **max() min()**"
   ]
  },
  {
   "cell_type": "code",
   "execution_count": 66,
   "id": "2085182f-fdbe-4bc5-b2f5-d998c22be5f2",
   "metadata": {},
   "outputs": [
    {
     "name": "stdout",
     "output_type": "stream",
     "text": [
      "[3.05281827 5.7854625  4.09582909 3.82218386 6.62316389 4.53686986\n",
      " 8.85316914 2.63251407 2.11536859 9.05303998]\n",
      "2.1153685937839333 9.05303997540119\n"
     ]
    }
   ],
   "source": [
    "# Для программного кода\n",
    "\n",
    "import numpy as np\n",
    "\n",
    "a = np.random.uniform(1,10, size=(1,10))\n",
    "for x in a:\n",
    "    print(x)\n",
    "    \n",
    "min_num = a[0,0]\n",
    "max_num = a[0,0]\n",
    "for i in range(10):\n",
    "    if min_num > a[0,i]:\n",
    "        min_num = a[0,i]\n",
    "    if max_num < a[0,i]:\n",
    "        max_num = a[0,i]\n",
    "        \n",
    "print(min_num, max_num)\n",
    "        \n",
    "\n"
   ]
  },
  {
   "cell_type": "code",
   "execution_count": null,
   "id": "4132101b-b5b6-4f9d-b5c0-afe7f32af688",
   "metadata": {},
   "outputs": [],
   "source": []
  }
 ],
 "metadata": {
  "kernelspec": {
   "display_name": "Python 3",
   "language": "python",
   "name": "python3"
  },
  "language_info": {
   "codemirror_mode": {
    "name": "ipython",
    "version": 3
   },
   "file_extension": ".py",
   "mimetype": "text/x-python",
   "name": "python",
   "nbconvert_exporter": "python",
   "pygments_lexer": "ipython3",
   "version": "3.8.8"
  }
 },
 "nbformat": 4,
 "nbformat_minor": 5
}
