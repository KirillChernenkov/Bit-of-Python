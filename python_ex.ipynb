{
 "cells": [
  {
   "cell_type": "markdown",
   "id": "b72061ca-71fe-47d1-8511-01309c99a7be",
   "metadata": {},
   "source": [
    "# <center>Урок 1. Основы Python </center>"
   ]
  },
  {
   "cell_type": "markdown",
   "id": "e54ed309-360e-4a3c-8ab8-f1c15ee1da25",
   "metadata": {},
   "source": [
    "### Типы данных \n",
    "\n",
    "1. Написать все типы данных которые есть в Python\n",
    "  \n",
    "    \n",
    "    "
   ]
  },
  {
   "cell_type": "code",
   "execution_count": 15,
   "id": "86a10be3-77a5-4037-a1e9-34b6069014b3",
   "metadata": {},
   "outputs": [
    {
     "name": "stdout",
     "output_type": "stream",
     "text": [
      "Пример выполнения\n",
      "5 - <class 'int'>\n",
      "{1, 2} - <class 'set'>\n"
     ]
    }
   ],
   "source": [
    "# Для программного кода\n",
    "print('Пример выполнения')\n",
    "\n",
    "int_num = 5\n",
    "print(f'{int_num} - {type(int_num)}')\n",
    "\n",
    "set_type = {1,1,1,2,2,2}\n",
    "print(f'{set_type} - {type(set_type)}')\n",
    "\n",
    "\n"
   ]
  },
  {
   "cell_type": "markdown",
   "id": "a459b722-fa2a-49bf-9e27-0ebe926844ef",
   "metadata": {},
   "source": [
    "\n",
    "    "
   ]
  },
  {
   "cell_type": "markdown",
   "id": "44a3b5a6-6381-4810-b093-f2bc1c0afdf7",
   "metadata": {},
   "source": [
    "2. Создать список и заполнить его различными типами данных.\n",
    "\n",
    "    Использовать **type()** Для получения типа "
   ]
  },
  {
   "cell_type": "code",
   "execution_count": 14,
   "id": "67778a7c-ec51-4298-b454-ca333fd0198d",
   "metadata": {},
   "outputs": [],
   "source": [
    "# Для программного кода\n",
    "\n",
    "\n",
    "\n"
   ]
  },
  {
   "cell_type": "markdown",
   "id": "6e656750-548d-485d-b8b6-00464193edf9",
   "metadata": {},
   "source": [
    "3. Пользователь вводит число от 1 до 12. Вывести название месяца и Время года (Зима, Весна, Лето, ОСень)"
   ]
  },
  {
   "cell_type": "code",
   "execution_count": 18,
   "id": "649f91cd-bc01-45d9-810f-f81651c069f7",
   "metadata": {},
   "outputs": [],
   "source": [
    "# Для программного кода\n",
    "\n",
    "\n",
    "\n",
    "\n"
   ]
  },
  {
   "cell_type": "markdown",
   "id": "40e6dfbf-99a1-424f-a22f-c27e2ae04d21",
   "metadata": {},
   "source": [
    "4. Рейтинг пользователя. \n",
    "\n",
    "    Представим что есть рейтинг [7,5,3,3,2]\n",
    "    \n",
    "    Пользователь вводит число 3\n",
    "    \n",
    "    новый рейтинг = [7,5,3,3,**3**,2]\n",
    "    \n",
    "    Если в рейтинге существуют элементы с одинаковыми значениями, то новый элемент с тем же значением должен разместиться после них.\n",
    "    **Не использвовать встроенную функцию сортировки**\n",
    "    \n",
    "    Рейтинг всегда идет по убыванию\n",
    "    "
   ]
  },
  {
   "cell_type": "code",
   "execution_count": 19,
   "id": "a936d413-873e-4041-a7f4-21c2b7c0264b",
   "metadata": {},
   "outputs": [],
   "source": [
    "# Для программного кода\n",
    "my_list = [7, 5, 3, 3, 2] \n",
    "\n",
    "\n"
   ]
  },
  {
   "cell_type": "markdown",
   "id": "afec82fa-4687-472a-878d-5b3c57108a99",
   "metadata": {},
   "source": [
    "5. Созадть список из рандомных числел от 1 до 100 \n",
    "и вывести числа :\n",
    "\n",
    "    1. Краные 2\n",
    "    2. Кратные 3 или 5\n",
    "    3. Меньше среднего значения списка\n",
    "    \n",
    "Использовать модуль **math** для рандома"
   ]
  },
  {
   "cell_type": "code",
   "execution_count": 21,
   "id": "a1fb62c3-21da-4b34-a594-3e3af49f2592",
   "metadata": {},
   "outputs": [],
   "source": [
    "# Для программного кода\n",
    "\n",
    "\n",
    "\n"
   ]
  },
  {
   "cell_type": "markdown",
   "id": "1769ef43-b723-4105-911b-ec9c779cd4e7",
   "metadata": {},
   "source": [
    "6. Создать два списка рандомных числе от 1 до 100\n",
    "\n",
    "    1. Создать новый список из уникальных элементов, которые встречаются в спике 1 и списке 2\n",
    "    2. Найти все элементы, которые есть в списке 1, но нет в списке 2\n",
    "    и наоборот\n",
    "    \n",
    "    3. Объединить два списка, оставить только уникальные значения  и найти среднее значение и медиану \n",
    "    "
   ]
  },
  {
   "cell_type": "code",
   "execution_count": 22,
   "id": "580c32f3-3795-4b72-9b49-36795b52d530",
   "metadata": {},
   "outputs": [],
   "source": [
    "# Для программного кода\n",
    "\n",
    "\n",
    "\n",
    "\n"
   ]
  },
  {
   "cell_type": "code",
   "execution_count": null,
   "id": "efa4c2ce-fd68-4182-b98d-804f86519dd4",
   "metadata": {},
   "outputs": [],
   "source": []
  }
 ],
 "metadata": {
  "kernelspec": {
   "display_name": "Python 3 (ipykernel)",
   "language": "python",
   "name": "python3"
  },
  "language_info": {
   "codemirror_mode": {
    "name": "ipython",
    "version": 3
   },
   "file_extension": ".py",
   "mimetype": "text/x-python",
   "name": "python",
   "nbconvert_exporter": "python",
   "pygments_lexer": "ipython3",
   "version": "3.7.11"
  }
 },
 "nbformat": 4,
 "nbformat_minor": 5
}
